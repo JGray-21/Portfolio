{
 "cells": [
  {
   "cell_type": "markdown",
   "id": "dffbf343",
   "metadata": {},
   "source": [
    "# **NBA Shooting Stats**\n",
    "\n",
    "### In this project, I use SQL to summarize a few basic insights regarding shooting around the league\n",
    "### A few things to note: The 3-Pt shot wasn't introduced to the NBA until the 1979-80 season so that is when most of my analysis will start. Also, since the 2022-23 season is still in progress, I will be excluding that data from my queries. Lastly, the seasons are lable by the year in which they ended, e.g. season 2021 reffers to the season that started in 2020 and ended in 2021."
   ]
  },
  {
   "cell_type": "code",
   "execution_count": 1,
   "id": "088a06bc",
   "metadata": {},
   "outputs": [],
   "source": [
    "#Import Libraries\n",
    "import pandas as pd\n",
    "import sqlite3\n",
    "import matplotlib.pyplot as plt"
   ]
  },
  {
   "cell_type": "code",
   "execution_count": 2,
   "id": "3df20ae2",
   "metadata": {},
   "outputs": [],
   "source": [
    "#Read csv file into Pandas Dataframe\n",
    "df = pd.read_csv('Database/Player Totals.csv')\n"
   ]
  },
  {
   "cell_type": "code",
   "execution_count": 3,
   "id": "6444c223",
   "metadata": {},
   "outputs": [],
   "source": [
    "#Open a connection with sqlite3\n",
    "cnn = sqlite3.connect('shooters_gonna_shoot.db')"
   ]
  },
  {
   "cell_type": "code",
   "execution_count": null,
   "id": "9299f880",
   "metadata": {},
   "outputs": [],
   "source": [
    "#Create SQL Table called 'shooting'\n",
    "df.to_sql('Player_Totals', cnn)"
   ]
  },
  {
   "cell_type": "code",
   "execution_count": 4,
   "id": "98dbcf44",
   "metadata": {},
   "outputs": [],
   "source": [
    "#Loading SQL extension and pointing connection to the database\n",
    "%load_ext sql\n",
    "%sql sqlite:///shooters_gonna_shoot.db"
   ]
  },
  {
   "cell_type": "markdown",
   "id": "1594939c",
   "metadata": {},
   "source": [
    "### Top 10 shooting teams in 2021-2022 season by %"
   ]
  },
  {
   "cell_type": "code",
   "execution_count": 5,
   "id": "31c7e136",
   "metadata": {},
   "outputs": [
    {
     "name": "stdout",
     "output_type": "stream",
     "text": [
      " * sqlite:///shooters_gonna_shoot.db\n",
      "Done.\n"
     ]
    },
    {
     "data": {
      "text/html": [
       "<table>\n",
       "    <thead>\n",
       "        <tr>\n",
       "            <th>Team</th>\n",
       "            <th>AVG FG %</th>\n",
       "        </tr>\n",
       "    </thead>\n",
       "    <tbody>\n",
       "        <tr>\n",
       "            <td>CHI</td>\n",
       "            <td>0.558</td>\n",
       "        </tr>\n",
       "        <tr>\n",
       "            <td>GSW</td>\n",
       "            <td>0.542</td>\n",
       "        </tr>\n",
       "        <tr>\n",
       "            <td>MIN</td>\n",
       "            <td>0.541</td>\n",
       "        </tr>\n",
       "        <tr>\n",
       "            <td>LAC</td>\n",
       "            <td>0.538</td>\n",
       "        </tr>\n",
       "        <tr>\n",
       "            <td>IND</td>\n",
       "            <td>0.534</td>\n",
       "        </tr>\n",
       "        <tr>\n",
       "            <td>DEN</td>\n",
       "            <td>0.533</td>\n",
       "        </tr>\n",
       "        <tr>\n",
       "            <td>MIA</td>\n",
       "            <td>0.529</td>\n",
       "        </tr>\n",
       "        <tr>\n",
       "            <td>HOU</td>\n",
       "            <td>0.529</td>\n",
       "        </tr>\n",
       "        <tr>\n",
       "            <td>UTA</td>\n",
       "            <td>0.527</td>\n",
       "        </tr>\n",
       "        <tr>\n",
       "            <td>PHI</td>\n",
       "            <td>0.522</td>\n",
       "        </tr>\n",
       "    </tbody>\n",
       "</table>"
      ],
      "text/plain": [
       "[('CHI', 0.558),\n",
       " ('GSW', 0.542),\n",
       " ('MIN', 0.541),\n",
       " ('LAC', 0.538),\n",
       " ('IND', 0.534),\n",
       " ('DEN', 0.533),\n",
       " ('MIA', 0.529),\n",
       " ('HOU', 0.529),\n",
       " ('UTA', 0.527),\n",
       " ('PHI', 0.522)]"
      ]
     },
     "execution_count": 5,
     "metadata": {},
     "output_type": "execute_result"
    }
   ],
   "source": [
    "%%sql\n",
    "\n",
    "SELECT tm as Team, round(avg(e_fg_percent), 3) as \"AVG FG %\"\n",
    "FROM Player_Totals\n",
    "WHERE season == 2022\n",
    "GROUP BY tm\n",
    "ORDER BY 2 DESC\n",
    "LIMIT 10;"
   ]
  },
  {
   "cell_type": "markdown",
   "id": "406b544c",
   "metadata": {},
   "source": [
    "### Best 3-point shooter each season over the past 10 seasons "
   ]
  },
  {
   "cell_type": "code",
   "execution_count": 6,
   "id": "e5ef3ad5",
   "metadata": {},
   "outputs": [
    {
     "name": "stdout",
     "output_type": "stream",
     "text": [
      " * sqlite:///shooters_gonna_shoot.db\n",
      "Done.\n"
     ]
    },
    {
     "data": {
      "text/html": [
       "<table>\n",
       "    <thead>\n",
       "        <tr>\n",
       "            <th>season</th>\n",
       "            <th>player</th>\n",
       "            <th>Pos</th>\n",
       "            <th>Team</th>\n",
       "            <th>3-PT Made</th>\n",
       "            <th>3-PT %</th>\n",
       "        </tr>\n",
       "    </thead>\n",
       "    <tbody>\n",
       "        <tr>\n",
       "            <td>2022</td>\n",
       "            <td>Stephen Curry</td>\n",
       "            <td>PG</td>\n",
       "            <td>GSW</td>\n",
       "            <td>285.0</td>\n",
       "            <td>0.38</td>\n",
       "        </tr>\n",
       "        <tr>\n",
       "            <td>2021</td>\n",
       "            <td>Stephen Curry</td>\n",
       "            <td>PG</td>\n",
       "            <td>GSW</td>\n",
       "            <td>337.0</td>\n",
       "            <td>0.421</td>\n",
       "        </tr>\n",
       "        <tr>\n",
       "            <td>2020</td>\n",
       "            <td>James Harden</td>\n",
       "            <td>SG</td>\n",
       "            <td>HOU</td>\n",
       "            <td>299.0</td>\n",
       "            <td>0.355</td>\n",
       "        </tr>\n",
       "        <tr>\n",
       "            <td>2019</td>\n",
       "            <td>James Harden</td>\n",
       "            <td>PG</td>\n",
       "            <td>HOU</td>\n",
       "            <td>378.0</td>\n",
       "            <td>0.368</td>\n",
       "        </tr>\n",
       "        <tr>\n",
       "            <td>2018</td>\n",
       "            <td>James Harden</td>\n",
       "            <td>SG</td>\n",
       "            <td>HOU</td>\n",
       "            <td>265.0</td>\n",
       "            <td>0.367</td>\n",
       "        </tr>\n",
       "        <tr>\n",
       "            <td>2017</td>\n",
       "            <td>Stephen Curry</td>\n",
       "            <td>PG</td>\n",
       "            <td>GSW</td>\n",
       "            <td>324.0</td>\n",
       "            <td>0.411</td>\n",
       "        </tr>\n",
       "        <tr>\n",
       "            <td>2016</td>\n",
       "            <td>Stephen Curry</td>\n",
       "            <td>PG</td>\n",
       "            <td>GSW</td>\n",
       "            <td>402.0</td>\n",
       "            <td>0.454</td>\n",
       "        </tr>\n",
       "        <tr>\n",
       "            <td>2015</td>\n",
       "            <td>Stephen Curry</td>\n",
       "            <td>PG</td>\n",
       "            <td>GSW</td>\n",
       "            <td>286.0</td>\n",
       "            <td>0.443</td>\n",
       "        </tr>\n",
       "        <tr>\n",
       "            <td>2014</td>\n",
       "            <td>Stephen Curry</td>\n",
       "            <td>PG</td>\n",
       "            <td>GSW</td>\n",
       "            <td>261.0</td>\n",
       "            <td>0.424</td>\n",
       "        </tr>\n",
       "        <tr>\n",
       "            <td>2013</td>\n",
       "            <td>Stephen Curry</td>\n",
       "            <td>PG</td>\n",
       "            <td>GSW</td>\n",
       "            <td>272.0</td>\n",
       "            <td>0.453</td>\n",
       "        </tr>\n",
       "    </tbody>\n",
       "</table>"
      ],
      "text/plain": [
       "[(2022, 'Stephen Curry', 'PG', 'GSW', 285.0, 0.38),\n",
       " (2021, 'Stephen Curry', 'PG', 'GSW', 337.0, 0.421),\n",
       " (2020, 'James Harden', 'SG', 'HOU', 299.0, 0.355),\n",
       " (2019, 'James Harden', 'PG', 'HOU', 378.0, 0.368),\n",
       " (2018, 'James Harden', 'SG', 'HOU', 265.0, 0.367),\n",
       " (2017, 'Stephen Curry', 'PG', 'GSW', 324.0, 0.411),\n",
       " (2016, 'Stephen Curry', 'PG', 'GSW', 402.0, 0.454),\n",
       " (2015, 'Stephen Curry', 'PG', 'GSW', 286.0, 0.443),\n",
       " (2014, 'Stephen Curry', 'PG', 'GSW', 261.0, 0.424),\n",
       " (2013, 'Stephen Curry', 'PG', 'GSW', 272.0, 0.453)]"
      ]
     },
     "execution_count": 6,
     "metadata": {},
     "output_type": "execute_result"
    }
   ],
   "source": [
    "%%sql\n",
    "\n",
    "SELECT season, player, pos as Pos, tm as Team, max(x3p) as '3-PT Made', x3p_percent as '3-PT %'\n",
    "FROM Player_Totals\n",
    "WHERE season < 2023\n",
    "GROUP BY season\n",
    "ORDER BY 1 DESC\n",
    "LIMIT 10;"
   ]
  },
  {
   "cell_type": "markdown",
   "id": "0bbe8a2d",
   "metadata": {},
   "source": [
    "### Plotting the number of 3-Pt attempts taken each season from 1980-2022"
   ]
  },
  {
   "cell_type": "code",
   "execution_count": 9,
   "id": "d824dd3f",
   "metadata": {},
   "outputs": [],
   "source": [
    "#Run Query and store it in a variable\n",
    "query = pd.read_sql_query('''\n",
    "SELECT season as Season, SUM(x3pa) as \"3-Pt Attempts\"\n",
    "FROM Player_Totals\n",
    "WHERE season BETWEEN 1980 AND 2022\n",
    "GROUP BY season\n",
    "ORDER BY 1;''', cnn)\n",
    "df = pd.DataFrame(query)"
   ]
  },
  {
   "cell_type": "code",
   "execution_count": 10,
   "id": "e1ae0e6d",
   "metadata": {},
   "outputs": [
    {
     "data": {
      "image/png": "[encoded data removed]",
      "text/plain": [
       "<Figure size 2000x1000 with 1 Axes>"
      ]
     },
     "metadata": {},
     "output_type": "display_data"
    }
   ],
   "source": [
    "graph = df.plot(x='Season', y='3-Pt Attempts', kind='bar', title = 'Total 3-Pt Attempts per season', figsize = (20,10))\n"
   ]
  },
  {
   "cell_type": "code",
   "execution_count": null,
   "id": "b812be33",
   "metadata": {},
   "outputs": [],
   "source": []
  }
 ],
 "metadata": {
  "kernelspec": {
   "display_name": "Python 3 (ipykernel)",
   "language": "python",
   "name": "python3"
  },
  "language_info": {
   "codemirror_mode": {
    "name": "ipython",
    "version": 3
   },
   "file_extension": ".py",
   "mimetype": "text/x-python",
   "name": "python",
   "nbconvert_exporter": "python",
   "pygments_lexer": "ipython3",
   "version": "3.8.11"
  }
 },
 "nbformat": 4,
 "nbformat_minor": 5
}
